{
 "cells": [
  {
   "cell_type": "code",
   "execution_count": 1,
   "id": "fad22e40",
   "metadata": {},
   "outputs": [
    {
     "name": "stdout",
     "output_type": "stream",
     "text": [
      "toms total 165\n"
     ]
    }
   ],
   "source": [
    "def calculate_total(exp):\n",
    "    total=0\n",
    "    for i in exp:\n",
    "        total=total+i\n",
    "    return total\n",
    "tom_list=[10,22,21,34,78]\n",
    "joes_list=[90,99,89,78,90]\n",
    "\n",
    "tom_total=calculate_total(tom_list)\n",
    "joes_total=calculate_total(joes_list)\n",
    "print(\"toms total\",tom_total)"
   ]
  },
  {
   "cell_type": "code",
   "execution_count": 6,
   "id": "50ffc9c4",
   "metadata": {},
   "outputs": [
    {
     "name": "stdout",
     "output_type": "stream",
     "text": [
      "sphere volume 904.3199999999999\n"
     ]
    }
   ],
   "source": [
    "def volume(r):\n",
    "    pie=3.14\n",
    "    vol=(4/3)*pie*r**3\n",
    "    return vol\n",
    "#radius=6\n",
    "sphere_vol=volume(6)\n",
    "print(\"sphere volume\",sphere_vol)"
   ]
  },
  {
   "cell_type": "code",
   "execution_count": null,
   "id": "82229b0f",
   "metadata": {},
   "outputs": [],
   "source": []
  }
 ],
 "metadata": {
  "kernelspec": {
   "display_name": "Python 3 (ipykernel)",
   "language": "python",
   "name": "python3"
  },
  "language_info": {
   "codemirror_mode": {
    "name": "ipython",
    "version": 3
   },
   "file_extension": ".py",
   "mimetype": "text/x-python",
   "name": "python",
   "nbconvert_exporter": "python",
   "pygments_lexer": "ipython3",
   "version": "3.9.7"
  }
 },
 "nbformat": 4,
 "nbformat_minor": 5
}
